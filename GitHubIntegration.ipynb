{
  "nbformat": 4,
  "nbformat_minor": 0,
  "metadata": {
    "colab": {
      "name": "GitHubIntegration.ipynb",
      "provenance": [],
      "authorship_tag": "ABX9TyNmK+fWQIxogr0XIHvSU0Ub",
      "include_colab_link": true
    },
    "kernelspec": {
      "name": "python3",
      "display_name": "Python 3"
    },
    "language_info": {
      "name": "python"
    }
  },
  "cells": [
    {
      "cell_type": "markdown",
      "metadata": {
        "id": "view-in-github",
        "colab_type": "text"
      },
      "source": [
        "<a href=\"https://colab.research.google.com/github/mtomcanyi/colab-public/blob/main/GitHubIntegration.ipynb\" target=\"_parent\"><img src=\"https://colab.research.google.com/assets/colab-badge.svg\" alt=\"Open In Colab\"/></a>"
      ]
    },
    {
      "cell_type": "markdown",
      "metadata": {
        "id": "B6UlWyjRdz75"
      },
      "source": [
        "# GitHub Integration Essentials"
      ]
    },
    {
      "cell_type": "markdown",
      "metadata": {
        "id": "loJsu3O3d8Kq"
      },
      "source": [
        "## Code and data split\n",
        "Code can be stored on GitHub and data can be stored on Google Drive. One time token authorization is needed for the duration of the session.\n",
        "\n",
        "Root of the drive is mounted at `/content/drive/MyDrive`"
      ]
    },
    {
      "cell_type": "code",
      "metadata": {
        "colab": {
          "base_uri": "https://localhost:8080/"
        },
        "id": "rODTMWkjdbgb",
        "outputId": "e5895871-bbff-4a77-e54d-251209083e9e"
      },
      "source": [
        "from google.colab import drive\n",
        "\n",
        "drive.mount('/content/drive');\n",
        "drivePfx = '/content/drive/MyDrive'"
      ],
      "execution_count": 143,
      "outputs": [
        {
          "output_type": "stream",
          "name": "stdout",
          "text": [
            "Mounted at /content/drive\n"
          ]
        }
      ]
    },
    {
      "cell_type": "markdown",
      "metadata": {
        "id": "eCV9qbD-js3C"
      },
      "source": [
        "## Package versions\n",
        "Quick dump of Python and package versions available in Colab"
      ]
    },
    {
      "cell_type": "code",
      "metadata": {
        "colab": {
          "base_uri": "https://localhost:8080/"
        },
        "id": "_OF4o0ytirby",
        "outputId": "fb556c6e-c86b-489f-8aa1-ea478bbd7cfd"
      },
      "source": [
        "! python -V\n",
        "\n",
        "for package in ['numpy','pandas','matplotlib','sklearn','bs4','requests']:\n",
        "  ! echo \"-----------------------\"\n",
        "  ! pip show $package"
      ],
      "execution_count": 139,
      "outputs": [
        {
          "output_type": "stream",
          "name": "stdout",
          "text": [
            "Python 3.7.12\n",
            "-----------------------\n",
            "Name: numpy\n",
            "Version: 1.19.5\n",
            "Summary: NumPy is the fundamental package for array computing with Python.\n",
            "Home-page: https://www.numpy.org\n",
            "Author: Travis E. Oliphant et al.\n",
            "Author-email: None\n",
            "License: BSD\n",
            "Location: /usr/local/lib/python3.7/dist-packages\n",
            "Requires: \n",
            "Required-by: yellowbrick, xgboost, xarray, wordcloud, torchvision, torchtext, tifffile, thinc, Theano-PyMC, tensorflow, tensorflow-probability, tensorflow-hub, tensorflow-datasets, tensorboard, tables, statsmodels, spacy, sklearn-pandas, seaborn, scs, scipy, scikit-learn, resampy, qdldl, PyWavelets, python-louvain, pystan, pysndfile, pymc3, pyerfa, pyemd, pyarrow, plotnine, patsy, pandas, osqp, opt-einsum, opencv-python, opencv-contrib-python, numexpr, numba, nibabel, netCDF4, moviepy, mlxtend, mizani, missingno, matplotlib, matplotlib-venn, lightgbm, librosa, Keras-Preprocessing, kapre, jpeg4py, jaxlib, jax, imgaug, imbalanced-learn, imageio, hyperopt, holoviews, h5py, gym, gensim, folium, fix-yahoo-finance, fbprophet, fastprogress, fastdtw, fastai, fa2, ecos, daft, cvxpy, cufflinks, cmdstanpy, cftime, Bottleneck, bokeh, blis, autograd, atari-py, astropy, arviz, altair, albumentations\n",
            "-----------------------\n",
            "Name: pandas\n",
            "Version: 1.1.5\n",
            "Summary: Powerful data structures for data analysis, time series, and statistics\n",
            "Home-page: https://pandas.pydata.org\n",
            "Author: None\n",
            "Author-email: None\n",
            "License: BSD\n",
            "Location: /usr/local/lib/python3.7/dist-packages\n",
            "Requires: python-dateutil, pytz, numpy\n",
            "Required-by: xarray, vega-datasets, statsmodels, sklearn-pandas, seaborn, pymc3, plotnine, pandas-profiling, pandas-gbq, pandas-datareader, mlxtend, mizani, holoviews, gspread-dataframe, google-colab, fix-yahoo-finance, fbprophet, fastai, cufflinks, cmdstanpy, arviz, altair\n",
            "-----------------------\n",
            "Name: matplotlib\n",
            "Version: 3.2.2\n",
            "Summary: Python plotting package\n",
            "Home-page: https://matplotlib.org\n",
            "Author: John D. Hunter, Michael Droettboom\n",
            "Author-email: matplotlib-users@python.org\n",
            "License: PSF\n",
            "Location: /usr/local/lib/python3.7/dist-packages\n",
            "Requires: python-dateutil, kiwisolver, numpy, cycler, pyparsing\n",
            "Required-by: yellowbrick, seaborn, scikit-image, pycocotools, plotnine, pandas-profiling, mlxtend, mizani, missingno, matplotlib-venn, keras-vis, imgaug, fbprophet, fastai, descartes, daft, arviz\n",
            "-----------------------\n",
            "Name: sklearn\n",
            "Version: 0.0\n",
            "Summary: A set of python modules for machine learning and data mining\n",
            "Home-page: https://pypi.python.org/pypi/scikit-learn/\n",
            "Author: UNKNOWN\n",
            "Author-email: UNKNOWN\n",
            "License: None\n",
            "Location: /usr/local/lib/python3.7/dist-packages\n",
            "Requires: scikit-learn\n",
            "Required-by: \n",
            "-----------------------\n",
            "Name: bs4\n",
            "Version: 0.0.1\n",
            "Summary: Screen-scraping library\n",
            "Home-page: https://pypi.python.org/pypi/beautifulsoup4\n",
            "Author: Leonard Richardson\n",
            "Author-email: leonardr@segfault.org\n",
            "License: MIT\n",
            "Location: /usr/local/lib/python3.7/dist-packages\n",
            "Requires: beautifulsoup4\n",
            "Required-by: \n",
            "-----------------------\n",
            "Name: requests\n",
            "Version: 2.23.0\n",
            "Summary: Python HTTP for Humans.\n",
            "Home-page: https://requests.readthedocs.io\n",
            "Author: Kenneth Reitz\n",
            "Author-email: me@kennethreitz.org\n",
            "License: Apache 2.0\n",
            "Location: /usr/local/lib/python3.7/dist-packages\n",
            "Requires: urllib3, chardet, certifi, idna\n",
            "Required-by: tweepy, torchtext, tensorflow-datasets, tensorboard, Sphinx, spacy, requests-oauthlib, pymystem3, pooch, panel, pandas-datareader, kaggle, gspread, google-colab, google-api-core, gdown, folium, fix-yahoo-finance, fastai, coveralls, community, CacheControl\n"
          ]
        }
      ]
    },
    {
      "cell_type": "markdown",
      "metadata": {
        "id": "mcHvuffjuVb7"
      },
      "source": [
        "## Package installation\n",
        "Running installation via terminal command\n"
      ]
    },
    {
      "cell_type": "code",
      "metadata": {
        "id": "pWVnhEz7uU2d"
      },
      "source": [
        "# BeautifulSoup web scraping stack already installed\n",
        "\n",
        "#!pip install bs4\n",
        "#!pip install requests"
      ],
      "execution_count": 140,
      "outputs": []
    },
    {
      "cell_type": "markdown",
      "metadata": {
        "id": "t3RvIbIch9pB"
      },
      "source": [
        "## Imports and setup\n",
        "Package imports needed for cells below"
      ]
    },
    {
      "cell_type": "code",
      "metadata": {
        "id": "fuBrKKVHhpaa"
      },
      "source": [
        "import pandas as pd\n",
        "import matplotlib.pyplot as plt\n",
        "\n",
        "# Make visualizations bigger and better looking - credits to Julia Evans(@b0rk)\n",
        "plt.style.use('ggplot')\n",
        "plt.rcParams['figure.figsize'] = (15,5)"
      ],
      "execution_count": 29,
      "outputs": []
    },
    {
      "cell_type": "markdown",
      "metadata": {
        "id": "2Nj6pdzuxJiS"
      },
      "source": [
        "## Test data\n",
        "\n",
        "\n",
        "\n",
        "*   Originates from [Prague Water and Sewage Services](https://www.pvk.cz/vse-o-vode/cena-vodneho-a-stocneho/vyvoj-vodneho-a-stocneho-v-praze/)\n",
        "*   Table entry: *Od roku 1998 sjednoceno*\n",
        "*   In *Obdobi* (en: *Period*) kept only starting year\n",
        "*   Renamed columns to `Year, Water, Sewer`\n",
        "*   Saved resulting CSV onto `MyDrive/Hackhealth2021/WaterSewerPrague.csv`\n",
        "*   Saved same CSV as Google Sheet `WaterSewer`\n",
        "\n"
      ]
    },
    {
      "cell_type": "markdown",
      "metadata": {
        "id": "KvR-sqzsec2I"
      },
      "source": [
        "## Read and preview a file stored on mounted drive\n",
        "Drive gets mounted at root with all subdirectories available\n",
        "\n"
      ]
    },
    {
      "cell_type": "code",
      "metadata": {
        "colab": {
          "base_uri": "https://localhost:8080/",
          "height": 771
        },
        "id": "iFVE_1gSeb5r",
        "outputId": "53f6b662-6e1c-425d-9d68-88acb040242e"
      },
      "source": [
        "wsDF = pd.read_csv(f'{drivePfx}/Hackhealth2021/WaterSewerPrague.csv', index_col='Year')\n",
        "wsDF"
      ],
      "execution_count": 141,
      "outputs": [
        {
          "output_type": "execute_result",
          "data": {
            "text/html": [
              "<div>\n",
              "<style scoped>\n",
              "    .dataframe tbody tr th:only-of-type {\n",
              "        vertical-align: middle;\n",
              "    }\n",
              "\n",
              "    .dataframe tbody tr th {\n",
              "        vertical-align: top;\n",
              "    }\n",
              "\n",
              "    .dataframe thead th {\n",
              "        text-align: right;\n",
              "    }\n",
              "</style>\n",
              "<table border=\"1\" class=\"dataframe\">\n",
              "  <thead>\n",
              "    <tr style=\"text-align: right;\">\n",
              "      <th></th>\n",
              "      <th>Water</th>\n",
              "      <th>Sewer</th>\n",
              "      <th>Total</th>\n",
              "    </tr>\n",
              "    <tr>\n",
              "      <th>Year</th>\n",
              "      <th></th>\n",
              "      <th></th>\n",
              "      <th></th>\n",
              "    </tr>\n",
              "  </thead>\n",
              "  <tbody>\n",
              "    <tr>\n",
              "      <th>2000</th>\n",
              "      <td>18.64</td>\n",
              "      <td>13.99</td>\n",
              "      <td>32.63</td>\n",
              "    </tr>\n",
              "    <tr>\n",
              "      <th>2001</th>\n",
              "      <td>19.77</td>\n",
              "      <td>15.33</td>\n",
              "      <td>35.10</td>\n",
              "    </tr>\n",
              "    <tr>\n",
              "      <th>2002</th>\n",
              "      <td>20.65</td>\n",
              "      <td>17.12</td>\n",
              "      <td>37.77</td>\n",
              "    </tr>\n",
              "    <tr>\n",
              "      <th>2003</th>\n",
              "      <td>20.72</td>\n",
              "      <td>17.85</td>\n",
              "      <td>38.57</td>\n",
              "    </tr>\n",
              "    <tr>\n",
              "      <th>2004</th>\n",
              "      <td>21.95</td>\n",
              "      <td>19.48</td>\n",
              "      <td>41.43</td>\n",
              "    </tr>\n",
              "    <tr>\n",
              "      <th>2005</th>\n",
              "      <td>22.79</td>\n",
              "      <td>19.96</td>\n",
              "      <td>42.75</td>\n",
              "    </tr>\n",
              "    <tr>\n",
              "      <th>2006</th>\n",
              "      <td>23.51</td>\n",
              "      <td>20.85</td>\n",
              "      <td>44.36</td>\n",
              "    </tr>\n",
              "    <tr>\n",
              "      <th>2007</th>\n",
              "      <td>26.74</td>\n",
              "      <td>22.93</td>\n",
              "      <td>49.67</td>\n",
              "    </tr>\n",
              "    <tr>\n",
              "      <th>2008</th>\n",
              "      <td>27.76</td>\n",
              "      <td>23.81</td>\n",
              "      <td>51.57</td>\n",
              "    </tr>\n",
              "    <tr>\n",
              "      <th>2009</th>\n",
              "      <td>30.04</td>\n",
              "      <td>25.08</td>\n",
              "      <td>55.12</td>\n",
              "    </tr>\n",
              "    <tr>\n",
              "      <th>2010</th>\n",
              "      <td>30.63</td>\n",
              "      <td>25.88</td>\n",
              "      <td>56.51</td>\n",
              "    </tr>\n",
              "    <tr>\n",
              "      <th>2011</th>\n",
              "      <td>34.39</td>\n",
              "      <td>26.00</td>\n",
              "      <td>60.39</td>\n",
              "    </tr>\n",
              "    <tr>\n",
              "      <th>2012</th>\n",
              "      <td>38.05</td>\n",
              "      <td>28.30</td>\n",
              "      <td>66.35</td>\n",
              "    </tr>\n",
              "    <tr>\n",
              "      <th>2013</th>\n",
              "      <td>43.02</td>\n",
              "      <td>31.33</td>\n",
              "      <td>74.35</td>\n",
              "    </tr>\n",
              "    <tr>\n",
              "      <th>2014</th>\n",
              "      <td>43.84</td>\n",
              "      <td>32.00</td>\n",
              "      <td>75.84</td>\n",
              "    </tr>\n",
              "    <tr>\n",
              "      <th>2015</th>\n",
              "      <td>44.71</td>\n",
              "      <td>32.94</td>\n",
              "      <td>77.65</td>\n",
              "    </tr>\n",
              "    <tr>\n",
              "      <th>2016</th>\n",
              "      <td>46.75</td>\n",
              "      <td>38.43</td>\n",
              "      <td>85.18</td>\n",
              "    </tr>\n",
              "    <tr>\n",
              "      <th>2017</th>\n",
              "      <td>46.43</td>\n",
              "      <td>38.99</td>\n",
              "      <td>85.42</td>\n",
              "    </tr>\n",
              "    <tr>\n",
              "      <th>2018</th>\n",
              "      <td>48.30</td>\n",
              "      <td>39.09</td>\n",
              "      <td>87.39</td>\n",
              "    </tr>\n",
              "    <tr>\n",
              "      <th>2019</th>\n",
              "      <td>48.96</td>\n",
              "      <td>40.70</td>\n",
              "      <td>89.66</td>\n",
              "    </tr>\n",
              "    <tr>\n",
              "      <th>2020</th>\n",
              "      <td>50.30</td>\n",
              "      <td>43.79</td>\n",
              "      <td>94.09</td>\n",
              "    </tr>\n",
              "    <tr>\n",
              "      <th>2021</th>\n",
              "      <td>54.77</td>\n",
              "      <td>46.82</td>\n",
              "      <td>101.59</td>\n",
              "    </tr>\n",
              "  </tbody>\n",
              "</table>\n",
              "</div>"
            ],
            "text/plain": [
              "      Water  Sewer   Total\n",
              "Year                      \n",
              "2000  18.64  13.99   32.63\n",
              "2001  19.77  15.33   35.10\n",
              "2002  20.65  17.12   37.77\n",
              "2003  20.72  17.85   38.57\n",
              "2004  21.95  19.48   41.43\n",
              "2005  22.79  19.96   42.75\n",
              "2006  23.51  20.85   44.36\n",
              "2007  26.74  22.93   49.67\n",
              "2008  27.76  23.81   51.57\n",
              "2009  30.04  25.08   55.12\n",
              "2010  30.63  25.88   56.51\n",
              "2011  34.39  26.00   60.39\n",
              "2012  38.05  28.30   66.35\n",
              "2013  43.02  31.33   74.35\n",
              "2014  43.84  32.00   75.84\n",
              "2015  44.71  32.94   77.65\n",
              "2016  46.75  38.43   85.18\n",
              "2017  46.43  38.99   85.42\n",
              "2018  48.30  39.09   87.39\n",
              "2019  48.96  40.70   89.66\n",
              "2020  50.30  43.79   94.09\n",
              "2021  54.77  46.82  101.59"
            ]
          },
          "metadata": {},
          "execution_count": 141
        }
      ]
    },
    {
      "cell_type": "code",
      "metadata": {
        "colab": {
          "base_uri": "https://localhost:8080/",
          "height": 789
        },
        "id": "yn4pY0nIhec1",
        "outputId": "1764c4c4-c44a-4635-aca4-067c66e5ced9"
      },
      "source": [
        "# Long form. Year is an index\n",
        "# plt.plot(wsDF.index,wsDF['Water'],'bo-',wsDF.index,wsDF['Sewer'],'ro-');\n",
        "\n",
        "ax = plt.plot(wsDF['Water'],'bo-',wsDF['Sewer'],'ro-');\n",
        "\n",
        "plt.title('Prague: Water and Sewer cost 2000-2020')\n",
        "plt.xlabel('Year')\n",
        "plt.ylabel(r'Price ($CZK/m^3)$')\n",
        "plt.rcParams['figure.figsize'] = (21,13)\n",
        "plt.legend(['Water','Sewer'])\n",
        "\n",
        "for rowIdx,rowData in wsDF.iterrows():\n",
        "  ax[0].axes.text(rowIdx,rowData['Water']-1,rowData['Water'])\n",
        "  ax[1].axes.text(rowIdx,rowData['Sewer']-1,rowData['Sewer'])\n"
      ],
      "execution_count": 109,
      "outputs": [
        {
          "output_type": "display_data",
          "data": {
            "image/png": "[encoded data removed]",
            "text/plain": [
              "<Figure size 1512x936 with 1 Axes>"
            ]
          },
          "metadata": {}
        }
      ]
    },
    {
      "cell_type": "markdown",
      "metadata": {
        "id": "ONVNShHkcJqv"
      },
      "source": [
        "## Write data to a file on drive"
      ]
    },
    {
      "cell_type": "code",
      "metadata": {
        "id": "wadk1OkRaJyC"
      },
      "source": [
        "# Boolean indexing does not return copy by default\n",
        "wsFiveYearDF=wsDF[wsDF.index % 5 == 0].copy()\n",
        "wsFiveYearDF['WaterIncreasePct'] = wsFiveYearDF['Water'].pct_change()*100\n",
        "wsFiveYearDF['SewerIncreasePct'] = wsFiveYearDF['Sewer'].pct_change()*100\n",
        "\n",
        "wsFiveYearDF['WaterIncreasePct'] = wsFiveYearDF['WaterIncreasePct'].round(2)\n",
        "wsFiveYearDF['SewerIncreasePct'] = wsFiveYearDF['SewerIncreasePct'].round(2)\n",
        "\n",
        "wsFiveYearDF\n",
        "wsFiveYearDF.to_csv(f'{drivePfx}/Hackhealth2021/PriceIncrease.csv')\n"
      ],
      "execution_count": 126,
      "outputs": []
    },
    {
      "cell_type": "markdown",
      "metadata": {
        "id": "YmoO29aXiynW"
      },
      "source": [
        "## Flush and unmount drive"
      ]
    },
    {
      "cell_type": "code",
      "metadata": {
        "id": "H-xlziqKd317"
      },
      "source": [
        "# Uncomment to flush and unmount the drive\n",
        "# drive.flush_and_unmount()"
      ],
      "execution_count": 142,
      "outputs": []
    },
    {
      "cell_type": "markdown",
      "metadata": {
        "id": "Se-4HmZUjjCs"
      },
      "source": [
        "## Access data in Google Sheets"
      ]
    },
    {
      "cell_type": "code",
      "metadata": {
        "colab": {
          "base_uri": "https://localhost:8080/",
          "height": 892
        },
        "id": "gB632i18jY7v",
        "outputId": "18808846-308b-42a2-8677-3e120f562504"
      },
      "source": [
        "from google.colab import auth\n",
        "auth.authenticate_user()\n",
        "\n",
        "import gspread\n",
        "from oauth2client.client import GoogleCredentials\n",
        "\n",
        "from pprint import pprint\n",
        "\n",
        "gc = gspread.authorize(GoogleCredentials.get_application_default())\n",
        "\n",
        "worksheet = gc.open('WaterSewer').sheet1\n",
        "\n",
        "# get_all_values gives a list of rows.\n",
        "rows = worksheet.get_all_values()\n",
        "print('-------------[ Row dump ]--------------')\n",
        "pprint(rows[:5])\n",
        "print('---------------------------------------')\n",
        "\n",
        "# First row contains column names\n",
        "headerRow = rows.pop(0)\n",
        "\n",
        "\n",
        "# Convert to a DataFrame and render.\n",
        "sheetDF = pd.DataFrame.from_records(rows,columns=headerRow,index='Year')\n",
        "sheetDF"
      ],
      "execution_count": 137,
      "outputs": [
        {
          "output_type": "stream",
          "name": "stdout",
          "text": [
            "-------------[ Row dump ]--------------\n",
            "[['Year', 'Water', 'Sewer', 'Total'],\n",
            " ['2000', '18.64', '13.99', '32.63'],\n",
            " ['2001', '19.77', '15.33', '35.1'],\n",
            " ['2002', '20.65', '17.12', '37.77'],\n",
            " ['2003', '20.72', '17.85', '38.57']]\n",
            "---------------------------------------\n"
          ]
        },
        {
          "output_type": "execute_result",
          "data": {
            "text/html": [
              "<div>\n",
              "<style scoped>\n",
              "    .dataframe tbody tr th:only-of-type {\n",
              "        vertical-align: middle;\n",
              "    }\n",
              "\n",
              "    .dataframe tbody tr th {\n",
              "        vertical-align: top;\n",
              "    }\n",
              "\n",
              "    .dataframe thead th {\n",
              "        text-align: right;\n",
              "    }\n",
              "</style>\n",
              "<table border=\"1\" class=\"dataframe\">\n",
              "  <thead>\n",
              "    <tr style=\"text-align: right;\">\n",
              "      <th></th>\n",
              "      <th>Water</th>\n",
              "      <th>Sewer</th>\n",
              "      <th>Total</th>\n",
              "    </tr>\n",
              "    <tr>\n",
              "      <th>Year</th>\n",
              "      <th></th>\n",
              "      <th></th>\n",
              "      <th></th>\n",
              "    </tr>\n",
              "  </thead>\n",
              "  <tbody>\n",
              "    <tr>\n",
              "      <th>2000</th>\n",
              "      <td>18.64</td>\n",
              "      <td>13.99</td>\n",
              "      <td>32.63</td>\n",
              "    </tr>\n",
              "    <tr>\n",
              "      <th>2001</th>\n",
              "      <td>19.77</td>\n",
              "      <td>15.33</td>\n",
              "      <td>35.1</td>\n",
              "    </tr>\n",
              "    <tr>\n",
              "      <th>2002</th>\n",
              "      <td>20.65</td>\n",
              "      <td>17.12</td>\n",
              "      <td>37.77</td>\n",
              "    </tr>\n",
              "    <tr>\n",
              "      <th>2003</th>\n",
              "      <td>20.72</td>\n",
              "      <td>17.85</td>\n",
              "      <td>38.57</td>\n",
              "    </tr>\n",
              "    <tr>\n",
              "      <th>2004</th>\n",
              "      <td>21.95</td>\n",
              "      <td>19.48</td>\n",
              "      <td>41.43</td>\n",
              "    </tr>\n",
              "    <tr>\n",
              "      <th>2005</th>\n",
              "      <td>22.79</td>\n",
              "      <td>19.96</td>\n",
              "      <td>42.75</td>\n",
              "    </tr>\n",
              "    <tr>\n",
              "      <th>2006</th>\n",
              "      <td>23.51</td>\n",
              "      <td>20.85</td>\n",
              "      <td>44.36</td>\n",
              "    </tr>\n",
              "    <tr>\n",
              "      <th>2007</th>\n",
              "      <td>26.74</td>\n",
              "      <td>22.93</td>\n",
              "      <td>49.67</td>\n",
              "    </tr>\n",
              "    <tr>\n",
              "      <th>2008</th>\n",
              "      <td>27.76</td>\n",
              "      <td>23.81</td>\n",
              "      <td>51.57</td>\n",
              "    </tr>\n",
              "    <tr>\n",
              "      <th>2009</th>\n",
              "      <td>30.04</td>\n",
              "      <td>25.08</td>\n",
              "      <td>55.12</td>\n",
              "    </tr>\n",
              "    <tr>\n",
              "      <th>2010</th>\n",
              "      <td>30.63</td>\n",
              "      <td>25.88</td>\n",
              "      <td>56.51</td>\n",
              "    </tr>\n",
              "    <tr>\n",
              "      <th>2011</th>\n",
              "      <td>34.39</td>\n",
              "      <td>26</td>\n",
              "      <td>60.39</td>\n",
              "    </tr>\n",
              "    <tr>\n",
              "      <th>2012</th>\n",
              "      <td>38.05</td>\n",
              "      <td>28.3</td>\n",
              "      <td>66.35</td>\n",
              "    </tr>\n",
              "    <tr>\n",
              "      <th>2013</th>\n",
              "      <td>43.02</td>\n",
              "      <td>31.33</td>\n",
              "      <td>74.35</td>\n",
              "    </tr>\n",
              "    <tr>\n",
              "      <th>2014</th>\n",
              "      <td>43.84</td>\n",
              "      <td>32</td>\n",
              "      <td>75.84</td>\n",
              "    </tr>\n",
              "    <tr>\n",
              "      <th>2015</th>\n",
              "      <td>44.71</td>\n",
              "      <td>32.94</td>\n",
              "      <td>77.65</td>\n",
              "    </tr>\n",
              "    <tr>\n",
              "      <th>2016</th>\n",
              "      <td>46.75</td>\n",
              "      <td>38.43</td>\n",
              "      <td>85.18</td>\n",
              "    </tr>\n",
              "    <tr>\n",
              "      <th>2017</th>\n",
              "      <td>46.43</td>\n",
              "      <td>38.99</td>\n",
              "      <td>85.42</td>\n",
              "    </tr>\n",
              "    <tr>\n",
              "      <th>2018</th>\n",
              "      <td>48.3</td>\n",
              "      <td>39.09</td>\n",
              "      <td>87.39</td>\n",
              "    </tr>\n",
              "    <tr>\n",
              "      <th>2019</th>\n",
              "      <td>48.96</td>\n",
              "      <td>40.7</td>\n",
              "      <td>89.66</td>\n",
              "    </tr>\n",
              "    <tr>\n",
              "      <th>2020</th>\n",
              "      <td>50.3</td>\n",
              "      <td>43.79</td>\n",
              "      <td>94.09</td>\n",
              "    </tr>\n",
              "    <tr>\n",
              "      <th>2021</th>\n",
              "      <td>54.77</td>\n",
              "      <td>46.82</td>\n",
              "      <td>101.59</td>\n",
              "    </tr>\n",
              "  </tbody>\n",
              "</table>\n",
              "</div>"
            ],
            "text/plain": [
              "      Water  Sewer   Total\n",
              "Year                      \n",
              "2000  18.64  13.99   32.63\n",
              "2001  19.77  15.33    35.1\n",
              "2002  20.65  17.12   37.77\n",
              "2003  20.72  17.85   38.57\n",
              "2004  21.95  19.48   41.43\n",
              "2005  22.79  19.96   42.75\n",
              "2006  23.51  20.85   44.36\n",
              "2007  26.74  22.93   49.67\n",
              "2008  27.76  23.81   51.57\n",
              "2009  30.04  25.08   55.12\n",
              "2010  30.63  25.88   56.51\n",
              "2011  34.39     26   60.39\n",
              "2012  38.05   28.3   66.35\n",
              "2013  43.02  31.33   74.35\n",
              "2014  43.84     32   75.84\n",
              "2015  44.71  32.94   77.65\n",
              "2016  46.75  38.43   85.18\n",
              "2017  46.43  38.99   85.42\n",
              "2018   48.3  39.09   87.39\n",
              "2019  48.96   40.7   89.66\n",
              "2020   50.3  43.79   94.09\n",
              "2021  54.77  46.82  101.59"
            ]
          },
          "metadata": {},
          "execution_count": 137
        }
      ]
    }
  ]
}